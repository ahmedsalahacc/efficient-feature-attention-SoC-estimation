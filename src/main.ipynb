{
 "cells": [
  {
   "cell_type": "code",
   "execution_count": 1,
   "metadata": {},
   "outputs": [],
   "source": [
    "import os\n",
    "\n",
    "\n",
    "import torch\n",
    "\n",
    "from datasets.LGDataset import LGDataset, get_dataloader"
   ]
  },
  {
   "cell_type": "code",
   "execution_count": 2,
   "metadata": {},
   "outputs": [
    {
     "name": "stdout",
     "output_type": "stream",
     "text": [
      "torch.Size([2048, 5]) torch.Size([2048])\n"
     ]
    }
   ],
   "source": [
    "PROJECT_DIR = os.path.dirname(os.path.abspath(''))\n",
    "DATA_DIR = 'data'\n",
    "\n",
    "BATCH_SIZE = 2048\n",
    "\n",
    "train_dataset = LGDataset(os.path.join(PROJECT_DIR, DATA_DIR, 'train.csv'))\n",
    "val_dataset = LGDataset(os.path.join(PROJECT_DIR, DATA_DIR, \"valid.csv\"))\n",
    "\n",
    "train_loader = get_dataloader(train_dataset, batch_size=BATCH_SIZE, shuffle=True)\n",
    "val_loader = get_dataloader(val_dataset, batch_size=BATCH_SIZE, shuffle=False)\n",
    "\n",
    "x,y = next(iter(train_loader))\n",
    "print(x.shape, y.shape)"
   ]
  },
  {
   "cell_type": "code",
   "execution_count": 3,
   "metadata": {},
   "outputs": [],
   "source": [
    "from models.soc_estimator import SoCEstimator\n",
    "\n",
    "model = SoCEstimator(\n",
    "    input_size=x.shape[1], \n",
    "    num_layers=5, \n",
    "    hidden_size=8, \n",
    "    is_residual=True\n",
    ")"
   ]
  },
  {
   "cell_type": "code",
   "execution_count": 4,
   "metadata": {},
   "outputs": [
    {
     "name": "stderr",
     "output_type": "stream",
     "text": [
      "You are using the plain ModelCheckpoint callback. Consider using LitModelCheckpoint which with seamless uploading to Model registry.\n",
      "GPU available: True (cuda), used: True\n",
      "TPU available: False, using: 0 TPU cores\n",
      "HPU available: False, using: 0 HPUs\n",
      "You are using a CUDA device ('NVIDIA GeForce RTX 3080 Ti') that has Tensor Cores. To properly utilize them, you should set `torch.set_float32_matmul_precision('medium' | 'high')` which will trade-off precision for performance. For more details, read https://pytorch.org/docs/stable/generated/torch.set_float32_matmul_precision.html#torch.set_float32_matmul_precision\n",
      "LOCAL_RANK: 0 - CUDA_VISIBLE_DEVICES: [0]\n",
      "/home/ahmedamaksoud/Desktop/projects/ITEC-EFADS/venv/lib/python3.12/site-packages/torch/optim/lr_scheduler.py:62: UserWarning: The verbose parameter is deprecated. Please use get_last_lr() to access the learning rate.\n",
      "  warnings.warn(\n",
      "\n",
      "  | Name      | Type    | Params | Mode \n",
      "----------------------------------------------\n",
      "0 | model     | Model   | 1.7 K  | train\n",
      "1 | criterion | MSELoss | 0      | train\n",
      "----------------------------------------------\n",
      "1.7 K     Trainable params\n",
      "0         Non-trainable params\n",
      "1.7 K     Total params\n",
      "0.007     Total estimated model params size (MB)\n",
      "57        Modules in train mode\n",
      "0         Modules in eval mode\n"
     ]
    },
    {
     "name": "stdout",
     "output_type": "stream",
     "text": [
      "Sanity Checking DataLoader 0:  50%|█████     | 1/2 [00:00<00:00, 12.45it/s]"
     ]
    },
    {
     "name": "stderr",
     "output_type": "stream",
     "text": [
      "/home/ahmedamaksoud/Desktop/projects/ITEC-EFADS/venv/lib/python3.12/site-packages/pytorch_lightning/trainer/connectors/data_connector.py:425: The 'val_dataloader' does not have many workers which may be a bottleneck. Consider increasing the value of the `num_workers` argument` to `num_workers=19` in the `DataLoader` to improve performance.\n"
     ]
    },
    {
     "name": "stdout",
     "output_type": "stream",
     "text": [
      "                                                                           "
     ]
    },
    {
     "name": "stderr",
     "output_type": "stream",
     "text": [
      "/home/ahmedamaksoud/Desktop/projects/ITEC-EFADS/venv/lib/python3.12/site-packages/pytorch_lightning/trainer/connectors/data_connector.py:425: The 'train_dataloader' does not have many workers which may be a bottleneck. Consider increasing the value of the `num_workers` argument` to `num_workers=19` in the `DataLoader` to improve performance.\n"
     ]
    },
    {
     "name": "stdout",
     "output_type": "stream",
     "text": [
      "Epoch 0: 100%|██████████| 328/328 [00:05<00:00, 61.55it/s, v_num=6]"
     ]
    },
    {
     "name": "stderr",
     "output_type": "stream",
     "text": [
      "Metric val_loss improved. New best score: 0.001\n"
     ]
    },
    {
     "name": "stdout",
     "output_type": "stream",
     "text": [
      "Epoch 1: 100%|██████████| 328/328 [00:05<00:00, 60.47it/s, v_num=6]"
     ]
    },
    {
     "name": "stderr",
     "output_type": "stream",
     "text": [
      "Metric val_loss improved by 0.000 >= min_delta = 0.0. New best score: 0.001\n"
     ]
    },
    {
     "name": "stdout",
     "output_type": "stream",
     "text": [
      "Epoch 3: 100%|██████████| 328/328 [00:05<00:00, 58.84it/s, v_num=6]"
     ]
    },
    {
     "name": "stderr",
     "output_type": "stream",
     "text": [
      "Metric val_loss improved by 0.000 >= min_delta = 0.0. New best score: 0.001\n"
     ]
    },
    {
     "name": "stdout",
     "output_type": "stream",
     "text": [
      "Epoch 4: 100%|██████████| 328/328 [00:05<00:00, 61.49it/s, v_num=6]"
     ]
    },
    {
     "name": "stderr",
     "output_type": "stream",
     "text": [
      "Metric val_loss improved by 0.000 >= min_delta = 0.0. New best score: 0.001\n"
     ]
    },
    {
     "name": "stdout",
     "output_type": "stream",
     "text": [
      "Epoch 5: 100%|██████████| 328/328 [00:05<00:00, 60.73it/s, v_num=6]"
     ]
    },
    {
     "name": "stderr",
     "output_type": "stream",
     "text": [
      "Metric val_loss improved by 0.000 >= min_delta = 0.0. New best score: 0.000\n"
     ]
    },
    {
     "name": "stdout",
     "output_type": "stream",
     "text": [
      "Epoch 6: 100%|██████████| 328/328 [00:05<00:00, 61.56it/s, v_num=6]"
     ]
    },
    {
     "name": "stderr",
     "output_type": "stream",
     "text": [
      "Metric val_loss improved by 0.000 >= min_delta = 0.0. New best score: 0.000\n"
     ]
    },
    {
     "name": "stdout",
     "output_type": "stream",
     "text": [
      "Epoch 11: 100%|██████████| 328/328 [00:05<00:00, 59.67it/s, v_num=6]"
     ]
    },
    {
     "name": "stderr",
     "output_type": "stream",
     "text": [
      "Metric val_loss improved by 0.000 >= min_delta = 0.0. New best score: 0.000\n"
     ]
    },
    {
     "name": "stdout",
     "output_type": "stream",
     "text": [
      "Epoch 13: 100%|██████████| 328/328 [00:05<00:00, 57.57it/s, v_num=6]"
     ]
    },
    {
     "name": "stderr",
     "output_type": "stream",
     "text": [
      "Metric val_loss improved by 0.000 >= min_delta = 0.0. New best score: 0.000\n"
     ]
    },
    {
     "name": "stdout",
     "output_type": "stream",
     "text": [
      "Epoch 18: 100%|██████████| 328/328 [00:05<00:00, 56.40it/s, v_num=6]"
     ]
    },
    {
     "name": "stderr",
     "output_type": "stream",
     "text": [
      "Metric val_loss improved by 0.000 >= min_delta = 0.0. New best score: 0.000\n"
     ]
    },
    {
     "name": "stdout",
     "output_type": "stream",
     "text": [
      "Epoch 25: 100%|██████████| 328/328 [00:05<00:00, 58.02it/s, v_num=6]"
     ]
    },
    {
     "name": "stderr",
     "output_type": "stream",
     "text": [
      "Metric val_loss improved by 0.000 >= min_delta = 0.0. New best score: 0.000\n"
     ]
    },
    {
     "name": "stdout",
     "output_type": "stream",
     "text": [
      "Epoch 35: 100%|██████████| 328/328 [00:05<00:00, 58.13it/s, v_num=6]"
     ]
    },
    {
     "name": "stderr",
     "output_type": "stream",
     "text": [
      "Monitored metric val_loss did not improve in the last 10 records. Best score: 0.000. Signaling Trainer to stop.\n"
     ]
    },
    {
     "name": "stdout",
     "output_type": "stream",
     "text": [
      "Epoch 35: 100%|██████████| 328/328 [00:05<00:00, 58.04it/s, v_num=6]\n"
     ]
    }
   ],
   "source": [
    "# train the model with pytorch lightning\n",
    "import pytorch_lightning as pl\n",
    "from pytorch_lightning.loggers import TensorBoardLogger\n",
    "\n",
    "# track the experiment\n",
    "logger = TensorBoardLogger('logs', name='soc-estimator')\n",
    "\n",
    "early_stop_callback = pl.callbacks.EarlyStopping(\n",
    "    monitor='val_loss',\n",
    "    patience=10,\n",
    "    verbose=True,\n",
    "    mode='min'\n",
    ")\n",
    "\n",
    "trainer = pl.Trainer(max_epochs=100, accelerator=\"auto\", logger=logger, callbacks=[early_stop_callback])\n",
    "trainer.fit(model, train_loader, val_loader)"
   ]
  },
  {
   "cell_type": "code",
   "execution_count": 15,
   "metadata": {},
   "outputs": [],
   "source": [
    "model = SoCEstimator.load_from_checkpoint(\n",
    "    \"/home/ahmedamaksoud/Desktop/projects/ITEC-EFADS/src/logs/soc-estimator/version_5/checkpoints/epoch=36-step=12136.ckpt\",\n",
    "    input_size=x.shape[1],\n",
    "    num_layers=5,\n",
    "    hidden_size=8,\n",
    "    is_residual=True,\n",
    ")"
   ]
  },
  {
   "cell_type": "code",
   "execution_count": 19,
   "metadata": {},
   "outputs": [
    {
     "data": {
      "text/plain": [
       "<All keys matched successfully>"
      ]
     },
     "execution_count": 19,
     "metadata": {},
     "output_type": "execute_result"
    }
   ],
   "source": [
    "model.model.load_state_dict(torch.load(\"../checkpoint.pt\"))"
   ]
  },
  {
   "cell_type": "code",
   "execution_count": 20,
   "metadata": {},
   "outputs": [
    {
     "name": "stderr",
     "output_type": "stream",
     "text": [
      "LOCAL_RANK: 0 - CUDA_VISIBLE_DEVICES: [0]\n",
      "/home/ahmedamaksoud/Desktop/projects/ITEC-EFADS/venv/lib/python3.12/site-packages/pytorch_lightning/trainer/connectors/data_connector.py:425: The 'test_dataloader' does not have many workers which may be a bottleneck. Consider increasing the value of the `num_workers` argument` to `num_workers=19` in the `DataLoader` to improve performance.\n"
     ]
    },
    {
     "name": "stdout",
     "output_type": "stream",
     "text": [
      "Testing DataLoader 0: 100%|██████████| 20/20 [00:00<00:00, 105.36it/s]\n",
      "────────────────────────────────────────────────────────────────────────────────────────────────────────────────────────\n",
      "       Test metric             DataLoader 0\n",
      "────────────────────────────────────────────────────────────────────────────────────────────────────────────────────────\n",
      "        test_loss         0.00011690160317812115\n",
      "────────────────────────────────────────────────────────────────────────────────────────────────────────────────────────\n",
      "RMSE: 1.081211355975217, MSE: 0.011690179962897673, MAE: 0.7731814403086901, MAXE: 5.402797698974609\n"
     ]
    }
   ],
   "source": [
    "# test the model\n",
    "trainer.test(model, val_loader)\n",
    "\n",
    "# calculate rmse, mse, mae, maxe\n",
    "from sklearn.metrics import mean_squared_error, mean_absolute_error, max_error\n",
    "import numpy as np\n",
    "\n",
    "model.eval()\n",
    "y_pred = []\n",
    "y_true = []\n",
    "for x, y in val_loader:\n",
    "    with torch.no_grad():\n",
    "        y_pred.append(model(x).numpy())\n",
    "        y_true.append(y.numpy())\n",
    "\n",
    "y_pred = np.concatenate(y_pred)\n",
    "y_true = np.concatenate(y_true)\n",
    "\n",
    "rmse = np.sqrt(mean_squared_error(y_true, y_pred))*100\n",
    "mse = mean_squared_error(y_true, y_pred)*100\n",
    "mae = mean_absolute_error(y_true, y_pred)*100\n",
    "maxe = max_error(y_true, y_pred)*100\n",
    "\n",
    "print(f'RMSE: {rmse}, MSE: {mse}, MAE: {mae}, MAXE: {maxe}')\n",
    "# # save the model\n",
    "# torch.save(model.state_dict(), 'soc-estimator.pth')"
   ]
  },
  {
   "cell_type": "code",
   "execution_count": 21,
   "metadata": {},
   "outputs": [
    {
     "data": {
      "text/plain": [
       "1713"
      ]
     },
     "execution_count": 21,
     "metadata": {},
     "output_type": "execute_result"
    }
   ],
   "source": [
    "from utils import count_parameters\n",
    "\n",
    "count_parameters(model)"
   ]
  },
  {
   "cell_type": "code",
   "execution_count": 22,
   "metadata": {},
   "outputs": [
    {
     "name": "stderr",
     "output_type": "stream",
     "text": [
      "LOCAL_RANK: 0 - CUDA_VISIBLE_DEVICES: [0]\n",
      "/home/ahmedamaksoud/Desktop/projects/ITEC-EFADS/venv/lib/python3.12/site-packages/pytorch_lightning/trainer/connectors/data_connector.py:425: The 'test_dataloader' does not have many workers which may be a bottleneck. Consider increasing the value of the `num_workers` argument` to `num_workers=19` in the `DataLoader` to improve performance.\n"
     ]
    },
    {
     "name": "stdout",
     "output_type": "stream",
     "text": [
      "Testing DataLoader 0:   0%|          | 0/24 [00:00<?, ?it/s]"
     ]
    },
    {
     "name": "stdout",
     "output_type": "stream",
     "text": [
      "Testing DataLoader 0: 100%|██████████| 24/24 [00:00<00:00, 73.67it/s]\n",
      "────────────────────────────────────────────────────────────────────────────────────────────────────────────────────────\n",
      "       Test metric             DataLoader 0\n",
      "────────────────────────────────────────────────────────────────────────────────────────────────────────────────────────\n",
      "        test_loss         0.00012307759607210755\n",
      "────────────────────────────────────────────────────────────────────────────────────────────────────────────────────────\n"
     ]
    },
    {
     "data": {
      "text/plain": [
       "[{'test_loss': 0.00012307759607210755}]"
      ]
     },
     "execution_count": 22,
     "metadata": {},
     "output_type": "execute_result"
    }
   ],
   "source": [
    "from torch import nn\n",
    "\n",
    "# test model\n",
    "model.to(\"cuda\")\n",
    "test_loss = 0\n",
    "test_dataset = LGDataset(os.path.join(\n",
    "    os.path.join(PROJECT_DIR, DATA_DIR), \n",
    "    \"04_TEST_LGHG2@25degC_Norm_(05_Inputs).csv\"\n",
    "))\n",
    "test_loader = get_dataloader(test_dataset, batch_size=BATCH_SIZE, shuffle=False)\n",
    "\n",
    "# test the model\n",
    "trainer.test(model, test_loader)\n"
   ]
  },
  {
   "cell_type": "code",
   "execution_count": 23,
   "metadata": {},
   "outputs": [],
   "source": [
    "from typing import List\n",
    "def test_model_on_multiple_temps(model, batch_size, temp_files:List[str])->None:\n",
    "\n",
    "    # predefine the collective preds and labels placeholder\n",
    "    y_preds_all = []\n",
    "    y_trues_all = []\n",
    "\n",
    "    model.cuda()\n",
    "\n",
    "    # evaluate each file\n",
    "    for file in temp_files:\n",
    "        test_dataset = LGDataset(os.path.join(\n",
    "        os.path.join(PROJECT_DIR, DATA_DIR), \n",
    "            \"04_TEST_LGHG2@25degC_Norm_(05_Inputs).csv\"\n",
    "         ))\n",
    "        test_loader = get_dataloader(test_dataset, batch_size=batch_size, shuffle=False)\n",
    "\n",
    "        y_preds = []\n",
    "        y_trues = []\n",
    "        # evaluate preds\n",
    "        for x, y in test_loader:\n",
    "            y_preds.append(model(x.to(\"cuda\")).detach().cpu().numpy())\n",
    "            y_trues.append(y.numpy())\n",
    "\n",
    "        # concatenate all batches\n",
    "        y_preds = np.concatenate(y_preds)\n",
    "        y_trues = np.concatenate(y_trues)\n",
    "\n",
    "        y_preds_all+=y_preds.tolist()\n",
    "        y_trues_all+=y_trues.tolist()\n",
    "\n",
    "        # evaluate model performance\n",
    "        mse = np.mean((y_preds - y_trues) ** 2)\n",
    "        rmse = np.sqrt(mse)\n",
    "        mae = np.mean(np.abs(y_preds - y_trues))\n",
    "        maxe = np.max(np.abs(y_preds - y_trues))\n",
    "        print('File:', file)\n",
    "        print(\n",
    "            f\"MSE%: {mse*100:.3f}, RMSE%: {rmse*100:.3f}, MAE%: {mae*100:.3f}, MAXE%: {maxe*100:.3f}\"\n",
    "        )\n",
    "\n",
    "    print('Overall--')\n",
    "    # evaluate model performance\n",
    "    mse = np.mean((y_preds_all - y_trues_all) ** 2)\n",
    "    rmse = np.sqrt(mse)\n",
    "    mae = np.mean(np.abs(y_preds_all - y_trues_all))\n",
    "    maxe = np.max(np.abs(y_preds_all - y_trues_all))\n",
    "    print('File:', file)\n",
    "    print(\n",
    "        f\"MSE%: {mse*100:.3f}, RMSE%: {rmse*100:.3f}, MAE%: {mae*100:.3f}, MAXE%: {maxe*100:.3f}\"\n",
    "    )"
   ]
  },
  {
   "cell_type": "code",
   "execution_count": 24,
   "metadata": {},
   "outputs": [],
   "source": [
    "from typing import List\n",
    "\n",
    "\n",
    "def test_model_on_multiple_temps(model, batch_size, temp_files: List[str]) -> None:\n",
    "\n",
    "    # predefine the collective preds and labels placeholder\n",
    "    y_preds_all = []\n",
    "    y_trues_all = []\n",
    "\n",
    "    model.cuda()\n",
    "\n",
    "    # evaluate each file\n",
    "    for file in temp_files:\n",
    "        test_dataset = LGDataset(\n",
    "            os.path.join(\n",
    "                os.path.join(PROJECT_DIR, DATA_DIR),\n",
    "                file,\n",
    "            )\n",
    "        )\n",
    "        test_loader = get_dataloader(test_dataset, batch_size=batch_size, shuffle=False)\n",
    "\n",
    "        y_preds = []\n",
    "        y_trues = []\n",
    "        # evaluate preds\n",
    "        for x, y in test_loader:\n",
    "            y_preds.append(model(x.to(\"cuda\")).detach().cpu().numpy())\n",
    "            y_trues.append(y.numpy())\n",
    "\n",
    "        # concatenate all batches\n",
    "        y_preds = np.concatenate(y_preds)\n",
    "        y_trues = np.concatenate(y_trues)\n",
    "\n",
    "        y_preds_all += y_preds.tolist()\n",
    "        y_trues_all += y_trues.tolist()\n",
    "\n",
    "        # evaluate model performance\n",
    "        mse = np.mean((y_preds - y_trues) ** 2)\n",
    "        rmse = np.sqrt(mse)\n",
    "        mae = np.mean(np.abs(y_preds - y_trues))\n",
    "        maxe = np.max(np.abs(y_preds - y_trues))\n",
    "        print(\"File:\", file)\n",
    "        print(\n",
    "            f\"-> MSE%: {mse*100:.3f}, RMSE%: {rmse*100:.3f}, MAE%: {mae*100:.3f}, MAXE%: {maxe*100:.3f}\"\n",
    "        )\n",
    "        print()\n",
    "    \n",
    "    # Evaluate overall performance\n",
    "    print(\"Overall--\")\n",
    "    # evaluate model performance\n",
    "    y_preds_all = np.array(y_preds_all)\n",
    "    y_trues_all = np.array(y_trues_all)\n",
    "\n",
    "    mse = np.mean((y_preds_all - y_trues_all) ** 2)\n",
    "    rmse = np.sqrt(mse)\n",
    "    mae = np.mean(np.abs(y_preds_all - y_trues_all))\n",
    "    maxe = np.max(np.abs(y_preds_all - y_trues_all))\n",
    "    print(\"File:\", file)\n",
    "    print(\n",
    "        f\"MSE%: {mse*100:.3f}, RMSE%: {rmse*100:.3f}, MAE%: {mae*100:.3f}, MAXE%: {maxe*100:.3f}\"\n",
    "    )"
   ]
  },
  {
   "cell_type": "code",
   "execution_count": 25,
   "metadata": {},
   "outputs": [
    {
     "name": "stdout",
     "output_type": "stream",
     "text": [
      "File: 01_TEST_LGHG2@n10degC_Norm_(05_Inputs).csv\n",
      "-> MSE%: 0.012, RMSE%: 1.081, MAE%: 0.773, MAXE%: 5.403\n",
      "\n",
      "File: 02_TEST_LGHG2@0degC_Norm_(05_Inputs).csv\n",
      "-> MSE%: 0.015, RMSE%: 1.226, MAE%: 0.788, MAXE%: 7.316\n",
      "\n",
      "File: 03_TEST_LGHG2@10degC_Norm_(05_Inputs).csv\n",
      "-> MSE%: 0.022, RMSE%: 1.472, MAE%: 0.947, MAXE%: 7.085\n",
      "\n",
      "File: 04_TEST_LGHG2@25degC_Norm_(05_Inputs).csv\n",
      "-> MSE%: 0.012, RMSE%: 1.109, MAE%: 0.683, MAXE%: 9.750\n",
      "\n",
      "Overall--\n",
      "File: 04_TEST_LGHG2@25degC_Norm_(05_Inputs).csv\n",
      "MSE%: 0.015, RMSE%: 1.234, MAE%: 0.796, MAXE%: 9.750\n"
     ]
    }
   ],
   "source": [
    "test_model_on_multiple_temps(\n",
    "    model,\n",
    "    batch_size=BATCH_SIZE,\n",
    "    temp_files=[\n",
    "        \"01_TEST_LGHG2@n10degC_Norm_(05_Inputs).csv\",\n",
    "        \"02_TEST_LGHG2@0degC_Norm_(05_Inputs).csv\",\n",
    "        \"03_TEST_LGHG2@10degC_Norm_(05_Inputs).csv\",\n",
    "        \"04_TEST_LGHG2@25degC_Norm_(05_Inputs).csv\",\n",
    "    ],\n",
    ")"
   ]
  },
  {
   "cell_type": "code",
   "execution_count": null,
   "metadata": {},
   "outputs": [],
   "source": [
    "#@TODO Structure the files\n",
    "#@TODO Create scripts for downloading the dataset\n",
    "#@TODO Create a guide for running on arduino\n",
    "#@TODO Dockerize\n",
    "#@TODO Push to git"
   ]
  }
 ],
 "metadata": {
  "kernelspec": {
   "display_name": "venv",
   "language": "python",
   "name": "python3"
  },
  "language_info": {
   "codemirror_mode": {
    "name": "ipython",
    "version": 3
   },
   "file_extension": ".py",
   "mimetype": "text/x-python",
   "name": "python",
   "nbconvert_exporter": "python",
   "pygments_lexer": "ipython3",
   "version": "3.12.3"
  }
 },
 "nbformat": 4,
 "nbformat_minor": 2
}
