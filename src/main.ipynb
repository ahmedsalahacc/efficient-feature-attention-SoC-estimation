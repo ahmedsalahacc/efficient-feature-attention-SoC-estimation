{
 "cells": [
  {
   "cell_type": "code",
   "execution_count": 1,
   "metadata": {},
   "outputs": [],
   "source": [
    "import os\n",
    "\n",
    "\n",
    "import torch\n",
    "\n",
    "from datasets.LGDataset import LGDataset, get_dataloader"
   ]
  },
  {
   "cell_type": "code",
   "execution_count": 2,
   "metadata": {},
   "outputs": [],
   "source": [
    "import yaml as yml\n",
    "\n",
    "import utils\n",
    "\n",
    "PROJECT_DIR = os.path.abspath(os.path.dirname(os.path.abspath(\"\")))\n",
    "\n",
    "config_path = os.path.join(PROJECT_DIR, \"src\", \"config.yml\")\n",
    "\n",
    "with open(config_path, \"r\") as f:\n",
    "    config = yml.safe_load(f)\n",
    "\n",
    "dataset_path = os.path.join(PROJECT_DIR, config.get(\"lg_dataset_path\"))"
   ]
  },
  {
   "cell_type": "code",
   "execution_count": 3,
   "metadata": {},
   "outputs": [
    {
     "name": "stdout",
     "output_type": "stream",
     "text": [
      "torch.Size([2048, 5]) torch.Size([2048])\n"
     ]
    }
   ],
   "source": [
    "BATCH_SIZE = 2048\n",
    "\n",
    "train_dataset = LGDataset(utils.fetch_data_files(dataset_path, \"train\"))\n",
    "val_dataset = LGDataset(utils.fetch_data_files(dataset_path, \"valid\"))\n",
    "\n",
    "train_loader = get_dataloader(train_dataset, batch_size=BATCH_SIZE, shuffle=True)\n",
    "val_loader = get_dataloader(val_dataset, batch_size=BATCH_SIZE, shuffle=False)\n",
    "\n",
    "x,y = next(iter(train_loader))\n",
    "print(x.shape, y.shape)"
   ]
  },
  {
   "cell_type": "code",
   "execution_count": 4,
   "metadata": {},
   "outputs": [
    {
     "data": {
      "text/plain": [
       "['/home/ahmedamaksoud/Desktop/projects/ITEC-EFADS/data/lg/test/02_TEST_LGHG2@0degC_Norm_(05_Inputs).csv',\n",
       " '/home/ahmedamaksoud/Desktop/projects/ITEC-EFADS/data/lg/test/01_TEST_LGHG2@n10degC_Norm_(05_Inputs).csv',\n",
       " '/home/ahmedamaksoud/Desktop/projects/ITEC-EFADS/data/lg/test/04_TEST_LGHG2@25degC_Norm_(05_Inputs).csv',\n",
       " '/home/ahmedamaksoud/Desktop/projects/ITEC-EFADS/data/lg/test/03_TEST_LGHG2@10degC_Norm_(05_Inputs).csv']"
      ]
     },
     "execution_count": 4,
     "metadata": {},
     "output_type": "execute_result"
    }
   ],
   "source": [
    "utils.fetch_data_files(dataset_path, \"test\")"
   ]
  },
  {
   "cell_type": "code",
   "execution_count": 5,
   "metadata": {},
   "outputs": [],
   "source": [
    "from models.soc_estimator import SoCEstimator\n",
    "\n",
    "model = SoCEstimator(\n",
    "    input_size=x.shape[1], \n",
    "    num_layers=5, \n",
    "    hidden_size=8, \n",
    "    is_residual=True\n",
    ")"
   ]
  },
  {
   "cell_type": "code",
   "execution_count": 6,
   "metadata": {},
   "outputs": [
    {
     "name": "stderr",
     "output_type": "stream",
     "text": [
      "You are using the plain ModelCheckpoint callback. Consider using LitModelCheckpoint which with seamless uploading to Model registry.\n",
      "GPU available: True (cuda), used: True\n",
      "TPU available: False, using: 0 TPU cores\n",
      "HPU available: False, using: 0 HPUs\n",
      "You are using a CUDA device ('NVIDIA GeForce RTX 3080 Ti') that has Tensor Cores. To properly utilize them, you should set `torch.set_float32_matmul_precision('medium' | 'high')` which will trade-off precision for performance. For more details, read https://pytorch.org/docs/stable/generated/torch.set_float32_matmul_precision.html#torch.set_float32_matmul_precision\n",
      "LOCAL_RANK: 0 - CUDA_VISIBLE_DEVICES: [0]\n",
      "/home/ahmedamaksoud/Desktop/projects/ITEC-EFADS/venv/lib/python3.12/site-packages/torch/optim/lr_scheduler.py:62: UserWarning: The verbose parameter is deprecated. Please use get_last_lr() to access the learning rate.\n",
      "  warnings.warn(\n",
      "\n",
      "  | Name      | Type    | Params | Mode \n",
      "----------------------------------------------\n",
      "0 | model     | Model   | 1.7 K  | train\n",
      "1 | criterion | MSELoss | 0      | train\n",
      "----------------------------------------------\n",
      "1.7 K     Trainable params\n",
      "0         Non-trainable params\n",
      "1.7 K     Total params\n",
      "0.007     Total estimated model params size (MB)\n",
      "57        Modules in train mode\n",
      "0         Modules in eval mode\n"
     ]
    },
    {
     "name": "stdout",
     "output_type": "stream",
     "text": [
      "Sanity Checking DataLoader 0:  50%|█████     | 1/2 [00:00<00:00, 12.51it/s]"
     ]
    },
    {
     "name": "stderr",
     "output_type": "stream",
     "text": [
      "/home/ahmedamaksoud/Desktop/projects/ITEC-EFADS/venv/lib/python3.12/site-packages/pytorch_lightning/trainer/connectors/data_connector.py:425: The 'val_dataloader' does not have many workers which may be a bottleneck. Consider increasing the value of the `num_workers` argument` to `num_workers=19` in the `DataLoader` to improve performance.\n"
     ]
    },
    {
     "name": "stdout",
     "output_type": "stream",
     "text": [
      "                                                                           "
     ]
    },
    {
     "name": "stderr",
     "output_type": "stream",
     "text": [
      "/home/ahmedamaksoud/Desktop/projects/ITEC-EFADS/venv/lib/python3.12/site-packages/pytorch_lightning/trainer/connectors/data_connector.py:425: The 'train_dataloader' does not have many workers which may be a bottleneck. Consider increasing the value of the `num_workers` argument` to `num_workers=19` in the `DataLoader` to improve performance.\n"
     ]
    },
    {
     "name": "stdout",
     "output_type": "stream",
     "text": [
      "Epoch 0: 100%|██████████| 328/328 [00:05<00:00, 60.04it/s, v_num=9]"
     ]
    },
    {
     "name": "stderr",
     "output_type": "stream",
     "text": [
      "Metric val_loss improved. New best score: 0.002\n"
     ]
    },
    {
     "name": "stdout",
     "output_type": "stream",
     "text": [
      "Epoch 1: 100%|██████████| 328/328 [00:05<00:00, 63.13it/s, v_num=9]"
     ]
    },
    {
     "name": "stderr",
     "output_type": "stream",
     "text": [
      "Metric val_loss improved by 0.001 >= min_delta = 0.0. New best score: 0.001\n"
     ]
    },
    {
     "name": "stdout",
     "output_type": "stream",
     "text": [
      "Epoch 2: 100%|██████████| 328/328 [00:05<00:00, 59.75it/s, v_num=9]"
     ]
    },
    {
     "name": "stderr",
     "output_type": "stream",
     "text": [
      "Metric val_loss improved by 0.000 >= min_delta = 0.0. New best score: 0.001\n"
     ]
    },
    {
     "name": "stdout",
     "output_type": "stream",
     "text": [
      "Epoch 3: 100%|██████████| 328/328 [00:05<00:00, 60.79it/s, v_num=9]"
     ]
    },
    {
     "name": "stderr",
     "output_type": "stream",
     "text": [
      "Metric val_loss improved by 0.000 >= min_delta = 0.0. New best score: 0.001\n"
     ]
    },
    {
     "name": "stdout",
     "output_type": "stream",
     "text": [
      "Epoch 5: 100%|██████████| 328/328 [00:05<00:00, 60.98it/s, v_num=9]"
     ]
    },
    {
     "name": "stderr",
     "output_type": "stream",
     "text": [
      "Metric val_loss improved by 0.000 >= min_delta = 0.0. New best score: 0.001\n"
     ]
    },
    {
     "name": "stdout",
     "output_type": "stream",
     "text": [
      "Epoch 6: 100%|██████████| 328/328 [00:05<00:00, 61.42it/s, v_num=9]"
     ]
    },
    {
     "name": "stderr",
     "output_type": "stream",
     "text": [
      "Metric val_loss improved by 0.000 >= min_delta = 0.0. New best score: 0.001\n"
     ]
    },
    {
     "name": "stdout",
     "output_type": "stream",
     "text": [
      "Epoch 7: 100%|██████████| 328/328 [00:05<00:00, 60.80it/s, v_num=9]"
     ]
    },
    {
     "name": "stderr",
     "output_type": "stream",
     "text": [
      "Metric val_loss improved by 0.000 >= min_delta = 0.0. New best score: 0.001\n"
     ]
    },
    {
     "name": "stdout",
     "output_type": "stream",
     "text": [
      "Epoch 8: 100%|██████████| 328/328 [00:05<00:00, 60.21it/s, v_num=9]"
     ]
    },
    {
     "name": "stderr",
     "output_type": "stream",
     "text": [
      "Metric val_loss improved by 0.000 >= min_delta = 0.0. New best score: 0.000\n"
     ]
    },
    {
     "name": "stdout",
     "output_type": "stream",
     "text": [
      "Epoch 10: 100%|██████████| 328/328 [00:05<00:00, 60.93it/s, v_num=9]"
     ]
    },
    {
     "name": "stderr",
     "output_type": "stream",
     "text": [
      "Metric val_loss improved by 0.000 >= min_delta = 0.0. New best score: 0.000\n"
     ]
    },
    {
     "name": "stdout",
     "output_type": "stream",
     "text": [
      "Epoch 11: 100%|██████████| 328/328 [00:05<00:00, 60.04it/s, v_num=9]"
     ]
    },
    {
     "name": "stderr",
     "output_type": "stream",
     "text": [
      "Metric val_loss improved by 0.000 >= min_delta = 0.0. New best score: 0.000\n"
     ]
    },
    {
     "name": "stdout",
     "output_type": "stream",
     "text": [
      "Epoch 13: 100%|██████████| 328/328 [00:05<00:00, 62.82it/s, v_num=9]"
     ]
    },
    {
     "name": "stderr",
     "output_type": "stream",
     "text": [
      "Metric val_loss improved by 0.000 >= min_delta = 0.0. New best score: 0.000\n"
     ]
    },
    {
     "name": "stdout",
     "output_type": "stream",
     "text": [
      "Epoch 14: 100%|██████████| 328/328 [00:05<00:00, 59.67it/s, v_num=9]"
     ]
    },
    {
     "name": "stderr",
     "output_type": "stream",
     "text": [
      "Metric val_loss improved by 0.000 >= min_delta = 0.0. New best score: 0.000\n"
     ]
    },
    {
     "name": "stdout",
     "output_type": "stream",
     "text": [
      "Epoch 24: 100%|██████████| 328/328 [00:05<00:00, 62.82it/s, v_num=9]"
     ]
    },
    {
     "name": "stderr",
     "output_type": "stream",
     "text": [
      "Monitored metric val_loss did not improve in the last 10 records. Best score: 0.000. Signaling Trainer to stop.\n"
     ]
    },
    {
     "name": "stdout",
     "output_type": "stream",
     "text": [
      "Epoch 24: 100%|██████████| 328/328 [00:05<00:00, 62.74it/s, v_num=9]\n"
     ]
    }
   ],
   "source": [
    "# train the model with pytorch lightning\n",
    "import pytorch_lightning as pl\n",
    "from pytorch_lightning.loggers import TensorBoardLogger\n",
    "\n",
    "# track the experiment\n",
    "logger = TensorBoardLogger('logs', name='soc-estimator')\n",
    "\n",
    "early_stop_callback = pl.callbacks.EarlyStopping(\n",
    "    monitor='val_loss',\n",
    "    patience=10,\n",
    "    verbose=True,\n",
    "    mode='min'\n",
    ")\n",
    "\n",
    "trainer = pl.Trainer(max_epochs=100, accelerator=\"auto\", logger=logger, callbacks=[early_stop_callback])\n",
    "trainer.fit(model, train_loader, val_loader)"
   ]
  },
  {
   "cell_type": "code",
   "execution_count": 7,
   "metadata": {},
   "outputs": [],
   "source": [
    "# model = SoCEstimator.load_from_checkpoint(\n",
    "#     \"/home/ahmedamaksoud/Desktop/projects/ITEC-EFADS/src/logs/soc-estimator/version_5/checkpoints/epoch=36-step=12136.ckpt\",\n",
    "#     input_size=x.shape[1],\n",
    "#     num_layers=5,\n",
    "#     hidden_size=8,\n",
    "#     is_residual=True,\n",
    "# )"
   ]
  },
  {
   "cell_type": "code",
   "execution_count": 8,
   "metadata": {},
   "outputs": [
    {
     "data": {
      "text/plain": [
       "<All keys matched successfully>"
      ]
     },
     "execution_count": 8,
     "metadata": {},
     "output_type": "execute_result"
    }
   ],
   "source": [
    "model.model.load_state_dict(torch.load(\"soc-estimator.pt\"))"
   ]
  },
  {
   "cell_type": "code",
   "execution_count": 9,
   "metadata": {},
   "outputs": [
    {
     "name": "stderr",
     "output_type": "stream",
     "text": [
      "LOCAL_RANK: 0 - CUDA_VISIBLE_DEVICES: [0]\n",
      "/home/ahmedamaksoud/Desktop/projects/ITEC-EFADS/venv/lib/python3.12/site-packages/pytorch_lightning/trainer/connectors/data_connector.py:425: The 'test_dataloader' does not have many workers which may be a bottleneck. Consider increasing the value of the `num_workers` argument` to `num_workers=19` in the `DataLoader` to improve performance.\n"
     ]
    },
    {
     "name": "stdout",
     "output_type": "stream",
     "text": [
      "Testing DataLoader 0: 100%|██████████| 20/20 [00:00<00:00, 110.11it/s]\n",
      "────────────────────────────────────────────────────────────────────────────────────────────────────────────────────────\n",
      "       Test metric             DataLoader 0\n",
      "────────────────────────────────────────────────────────────────────────────────────────────────────────────────────────\n",
      "        test_loss         0.00011690160317812115\n",
      "────────────────────────────────────────────────────────────────────────────────────────────────────────────────────────\n",
      "RMSE: 1.081211355975217, MSE: 0.011690179962897673, MAE: 0.7731814403086901, MAXE: 5.402797698974609\n"
     ]
    }
   ],
   "source": [
    "# test the model\n",
    "trainer.test(model, val_loader)\n",
    "\n",
    "# calculate rmse, mse, mae, maxe\n",
    "from sklearn.metrics import mean_squared_error, mean_absolute_error, max_error\n",
    "import numpy as np\n",
    "\n",
    "model.eval()\n",
    "y_pred = []\n",
    "y_true = []\n",
    "for x, y in val_loader:\n",
    "    with torch.no_grad():\n",
    "        y_pred.append(model(x).numpy())\n",
    "        y_true.append(y.numpy())\n",
    "\n",
    "y_pred = np.concatenate(y_pred)\n",
    "y_true = np.concatenate(y_true)\n",
    "\n",
    "rmse = np.sqrt(mean_squared_error(y_true, y_pred))*100\n",
    "mse = mean_squared_error(y_true, y_pred)*100\n",
    "mae = mean_absolute_error(y_true, y_pred)*100\n",
    "maxe = max_error(y_true, y_pred)*100\n",
    "\n",
    "print(f'RMSE: {rmse}, MSE: {mse}, MAE: {mae}, MAXE: {maxe}')\n",
    "# # save the model\n",
    "# torch.save(model.state_dict(), 'soc-estimator.pth')"
   ]
  },
  {
   "cell_type": "code",
   "execution_count": 10,
   "metadata": {},
   "outputs": [
    {
     "data": {
      "text/plain": [
       "1713"
      ]
     },
     "execution_count": 10,
     "metadata": {},
     "output_type": "execute_result"
    }
   ],
   "source": [
    "utils.count_parameters(model)"
   ]
  },
  {
   "cell_type": "code",
   "execution_count": 11,
   "metadata": {},
   "outputs": [
    {
     "name": "stdout",
     "output_type": "stream",
     "text": [
      "File: /home/ahmedamaksoud/Desktop/projects/ITEC-EFADS/data/lg/test/02_TEST_LGHG2@0degC_Norm_(05_Inputs).csv\n",
      "\t-MSE%: 0.015, RMSE%: 1.226, MAE%: 0.788, MAXE%: 7.316\n",
      "\n",
      "File: /home/ahmedamaksoud/Desktop/projects/ITEC-EFADS/data/lg/test/01_TEST_LGHG2@n10degC_Norm_(05_Inputs).csv\n",
      "\t-MSE%: 0.012, RMSE%: 1.081, MAE%: 0.773, MAXE%: 5.403\n",
      "\n",
      "File: /home/ahmedamaksoud/Desktop/projects/ITEC-EFADS/data/lg/test/04_TEST_LGHG2@25degC_Norm_(05_Inputs).csv\n",
      "\t-MSE%: 0.012, RMSE%: 1.109, MAE%: 0.683, MAXE%: 9.750\n",
      "\n",
      "File: /home/ahmedamaksoud/Desktop/projects/ITEC-EFADS/data/lg/test/03_TEST_LGHG2@10degC_Norm_(05_Inputs).csv\n",
      "\t-MSE%: 0.022, RMSE%: 1.472, MAE%: 0.947, MAXE%: 7.085\n",
      "\n",
      "<Overall>\n",
      "MSE%: 0.015, RMSE%: 1.234, MAE%: 0.796, MAXE%: 9.750\n"
     ]
    }
   ],
   "source": [
    "utils.test_model_on_multiple_temps(\n",
    "    model,\n",
    "    batch_size=BATCH_SIZE,\n",
    "    test_files=utils.fetch_data_files(dataset_path, \"test\"),\n",
    ")"
   ]
  },
  {
   "cell_type": "code",
   "execution_count": 12,
   "metadata": {},
   "outputs": [],
   "source": [
    "#@TODO Structure the files\n",
    "#@TODO Create scripts for downloading the dataset\n",
    "#@TODO Create a guide for running on arduino\n",
    "#@TODO Dockerize\n",
    "#@TODO Push to git"
   ]
  }
 ],
 "metadata": {
  "kernelspec": {
   "display_name": "venv",
   "language": "python",
   "name": "python3"
  },
  "language_info": {
   "codemirror_mode": {
    "name": "ipython",
    "version": 3
   },
   "file_extension": ".py",
   "mimetype": "text/x-python",
   "name": "python",
   "nbconvert_exporter": "python",
   "pygments_lexer": "ipython3",
   "version": "3.12.3"
  }
 },
 "nbformat": 4,
 "nbformat_minor": 2
}
